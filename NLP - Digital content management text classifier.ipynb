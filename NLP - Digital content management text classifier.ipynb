{
 "cells": [
  {
   "cell_type": "markdown",
   "metadata": {},
   "source": [
    "# Part One - Digital content management text classifier\n",
    "\n",
    "PROJECT OBJECTIVE: The need is to build a NLP classifier which can use input text parameters to determine the label/s of the blog."
   ]
  },
  {
   "cell_type": "markdown",
   "metadata": {},
   "source": [
    "## Importing the Libraries"
   ]
  },
  {
   "cell_type": "code",
   "execution_count": 70,
   "metadata": {},
   "outputs": [],
   "source": [
    "import numpy as np \n",
    "import pandas as pd \n",
    "import re \n",
    "import nltk\n",
    "\n",
    "import os\n",
    "\n",
    "from nltk.corpus import stopwords\n",
    "from sklearn.feature_extraction.text import CountVectorizer\n",
    "from sklearn.preprocessing import MultiLabelBinarizer\n",
    "from sklearn.model_selection import train_test_split\n",
    "\n",
    "from sklearn.multiclass import OneVsRestClassifier\n",
    "from sklearn.linear_model import LogisticRegression\n",
    "from sklearn.ensemble import RandomForestClassifier\n",
    "\n",
    "from sklearn.metrics import accuracy_score, confusion_matrix, classification_report\n",
    "from sklearn.metrics import f1_score\n",
    "from sklearn.metrics import average_precision_score\n",
    "from sklearn.metrics import recall_score\n",
    "\n",
    "import warnings\n",
    "warnings.filterwarnings('ignore')"
   ]
  },
  {
   "cell_type": "markdown",
   "metadata": {},
   "source": [
    "## Importing data and EDA"
   ]
  },
  {
   "cell_type": "code",
   "execution_count": 2,
   "metadata": {},
   "outputs": [
    {
     "data": {
      "text/html": [
       "<div>\n",
       "<style scoped>\n",
       "    .dataframe tbody tr th:only-of-type {\n",
       "        vertical-align: middle;\n",
       "    }\n",
       "\n",
       "    .dataframe tbody tr th {\n",
       "        vertical-align: top;\n",
       "    }\n",
       "\n",
       "    .dataframe thead th {\n",
       "        text-align: right;\n",
       "    }\n",
       "</style>\n",
       "<table border=\"1\" class=\"dataframe\">\n",
       "  <thead>\n",
       "    <tr style=\"text-align: right;\">\n",
       "      <th></th>\n",
       "      <th>id</th>\n",
       "      <th>gender</th>\n",
       "      <th>age</th>\n",
       "      <th>topic</th>\n",
       "      <th>sign</th>\n",
       "      <th>date</th>\n",
       "      <th>text</th>\n",
       "    </tr>\n",
       "  </thead>\n",
       "  <tbody>\n",
       "    <tr>\n",
       "      <th>0</th>\n",
       "      <td>2059027</td>\n",
       "      <td>male</td>\n",
       "      <td>15</td>\n",
       "      <td>Student</td>\n",
       "      <td>Leo</td>\n",
       "      <td>14,May,2004</td>\n",
       "      <td>Info has been found (+/- 100 pages,...</td>\n",
       "    </tr>\n",
       "    <tr>\n",
       "      <th>1</th>\n",
       "      <td>2059027</td>\n",
       "      <td>male</td>\n",
       "      <td>15</td>\n",
       "      <td>Student</td>\n",
       "      <td>Leo</td>\n",
       "      <td>13,May,2004</td>\n",
       "      <td>These are the team members:   Drewe...</td>\n",
       "    </tr>\n",
       "    <tr>\n",
       "      <th>2</th>\n",
       "      <td>2059027</td>\n",
       "      <td>male</td>\n",
       "      <td>15</td>\n",
       "      <td>Student</td>\n",
       "      <td>Leo</td>\n",
       "      <td>12,May,2004</td>\n",
       "      <td>In het kader van kernfusie op aarde...</td>\n",
       "    </tr>\n",
       "    <tr>\n",
       "      <th>3</th>\n",
       "      <td>2059027</td>\n",
       "      <td>male</td>\n",
       "      <td>15</td>\n",
       "      <td>Student</td>\n",
       "      <td>Leo</td>\n",
       "      <td>12,May,2004</td>\n",
       "      <td>testing!!!  testing!!!</td>\n",
       "    </tr>\n",
       "    <tr>\n",
       "      <th>4</th>\n",
       "      <td>3581210</td>\n",
       "      <td>male</td>\n",
       "      <td>33</td>\n",
       "      <td>InvestmentBanking</td>\n",
       "      <td>Aquarius</td>\n",
       "      <td>11,June,2004</td>\n",
       "      <td>Thanks to Yahoo!'s Toolbar I can ...</td>\n",
       "    </tr>\n",
       "    <tr>\n",
       "      <th>5</th>\n",
       "      <td>3581210</td>\n",
       "      <td>male</td>\n",
       "      <td>33</td>\n",
       "      <td>InvestmentBanking</td>\n",
       "      <td>Aquarius</td>\n",
       "      <td>10,June,2004</td>\n",
       "      <td>I had an interesting conversation...</td>\n",
       "    </tr>\n",
       "    <tr>\n",
       "      <th>6</th>\n",
       "      <td>3581210</td>\n",
       "      <td>male</td>\n",
       "      <td>33</td>\n",
       "      <td>InvestmentBanking</td>\n",
       "      <td>Aquarius</td>\n",
       "      <td>10,June,2004</td>\n",
       "      <td>Somehow Coca-Cola has a way of su...</td>\n",
       "    </tr>\n",
       "    <tr>\n",
       "      <th>7</th>\n",
       "      <td>3581210</td>\n",
       "      <td>male</td>\n",
       "      <td>33</td>\n",
       "      <td>InvestmentBanking</td>\n",
       "      <td>Aquarius</td>\n",
       "      <td>10,June,2004</td>\n",
       "      <td>If anything, Korea is a country o...</td>\n",
       "    </tr>\n",
       "    <tr>\n",
       "      <th>8</th>\n",
       "      <td>3581210</td>\n",
       "      <td>male</td>\n",
       "      <td>33</td>\n",
       "      <td>InvestmentBanking</td>\n",
       "      <td>Aquarius</td>\n",
       "      <td>10,June,2004</td>\n",
       "      <td>Take a read of this news article ...</td>\n",
       "    </tr>\n",
       "    <tr>\n",
       "      <th>9</th>\n",
       "      <td>3581210</td>\n",
       "      <td>male</td>\n",
       "      <td>33</td>\n",
       "      <td>InvestmentBanking</td>\n",
       "      <td>Aquarius</td>\n",
       "      <td>09,June,2004</td>\n",
       "      <td>I surf the English news sites a l...</td>\n",
       "    </tr>\n",
       "  </tbody>\n",
       "</table>\n",
       "</div>"
      ],
      "text/plain": [
       "        id gender  age              topic      sign          date  \\\n",
       "0  2059027   male   15            Student       Leo   14,May,2004   \n",
       "1  2059027   male   15            Student       Leo   13,May,2004   \n",
       "2  2059027   male   15            Student       Leo   12,May,2004   \n",
       "3  2059027   male   15            Student       Leo   12,May,2004   \n",
       "4  3581210   male   33  InvestmentBanking  Aquarius  11,June,2004   \n",
       "5  3581210   male   33  InvestmentBanking  Aquarius  10,June,2004   \n",
       "6  3581210   male   33  InvestmentBanking  Aquarius  10,June,2004   \n",
       "7  3581210   male   33  InvestmentBanking  Aquarius  10,June,2004   \n",
       "8  3581210   male   33  InvestmentBanking  Aquarius  10,June,2004   \n",
       "9  3581210   male   33  InvestmentBanking  Aquarius  09,June,2004   \n",
       "\n",
       "                                                text  \n",
       "0             Info has been found (+/- 100 pages,...  \n",
       "1             These are the team members:   Drewe...  \n",
       "2             In het kader van kernfusie op aarde...  \n",
       "3                   testing!!!  testing!!!            \n",
       "4               Thanks to Yahoo!'s Toolbar I can ...  \n",
       "5               I had an interesting conversation...  \n",
       "6               Somehow Coca-Cola has a way of su...  \n",
       "7               If anything, Korea is a country o...  \n",
       "8               Take a read of this news article ...  \n",
       "9               I surf the English news sites a l...  "
      ]
     },
     "execution_count": 2,
     "metadata": {},
     "output_type": "execute_result"
    }
   ],
   "source": [
    "dataset = pd.read_csv('blogtext.csv')\n",
    "dataset.head(10)"
   ]
  },
  {
   "cell_type": "code",
   "execution_count": 3,
   "metadata": {},
   "outputs": [
    {
     "name": "stdout",
     "output_type": "stream",
     "text": [
      "id        False\n",
      "gender    False\n",
      "age       False\n",
      "topic     False\n",
      "sign      False\n",
      "date      False\n",
      "text      False\n",
      "dtype: bool\n",
      "id        False\n",
      "gender    False\n",
      "age       False\n",
      "topic     False\n",
      "sign      False\n",
      "date      False\n",
      "text      False\n",
      "dtype: bool\n"
     ]
    }
   ],
   "source": [
    "## Checking for NA/NUll\n",
    "\n",
    "print(dataset.isna().any())\n",
    "print(dataset.isnull().any())"
   ]
  },
  {
   "cell_type": "markdown",
   "metadata": {},
   "source": [
    "*No Null values are present in the dataset*"
   ]
  },
  {
   "cell_type": "code",
   "execution_count": 4,
   "metadata": {},
   "outputs": [
    {
     "data": {
      "text/plain": [
       "(681284, 7)"
      ]
     },
     "execution_count": 4,
     "metadata": {},
     "output_type": "execute_result"
    }
   ],
   "source": [
    "## Shape of the data\n",
    "\n",
    "dataset.shape"
   ]
  },
  {
   "cell_type": "markdown",
   "metadata": {},
   "source": [
    "There are 68,124 records and is huge to perform analysis and computation, hence we are going to take a subset and rerun with the entire data-set once all errors are fixed and optimization is done"
   ]
  },
  {
   "cell_type": "code",
   "execution_count": 5,
   "metadata": {},
   "outputs": [],
   "source": [
    "partial_dataset = dataset.head(10000)"
   ]
  },
  {
   "cell_type": "code",
   "execution_count": 6,
   "metadata": {},
   "outputs": [
    {
     "name": "stdout",
     "output_type": "stream",
     "text": [
      "<class 'pandas.core.frame.DataFrame'>\n",
      "RangeIndex: 10000 entries, 0 to 9999\n",
      "Data columns (total 7 columns):\n",
      " #   Column  Non-Null Count  Dtype \n",
      "---  ------  --------------  ----- \n",
      " 0   id      10000 non-null  int64 \n",
      " 1   gender  10000 non-null  object\n",
      " 2   age     10000 non-null  int64 \n",
      " 3   topic   10000 non-null  object\n",
      " 4   sign    10000 non-null  object\n",
      " 5   date    10000 non-null  object\n",
      " 6   text    10000 non-null  object\n",
      "dtypes: int64(2), object(5)\n",
      "memory usage: 547.0+ KB\n"
     ]
    }
   ],
   "source": [
    "partial_dataset.info()"
   ]
  },
  {
   "cell_type": "code",
   "execution_count": 7,
   "metadata": {},
   "outputs": [],
   "source": [
    "## removing less important features\n",
    "partial_dataset.drop(['id','date'], axis=1, inplace=True)"
   ]
  },
  {
   "cell_type": "code",
   "execution_count": 8,
   "metadata": {},
   "outputs": [
    {
     "data": {
      "text/html": [
       "<div>\n",
       "<style scoped>\n",
       "    .dataframe tbody tr th:only-of-type {\n",
       "        vertical-align: middle;\n",
       "    }\n",
       "\n",
       "    .dataframe tbody tr th {\n",
       "        vertical-align: top;\n",
       "    }\n",
       "\n",
       "    .dataframe thead th {\n",
       "        text-align: right;\n",
       "    }\n",
       "</style>\n",
       "<table border=\"1\" class=\"dataframe\">\n",
       "  <thead>\n",
       "    <tr style=\"text-align: right;\">\n",
       "      <th></th>\n",
       "      <th>gender</th>\n",
       "      <th>age</th>\n",
       "      <th>topic</th>\n",
       "      <th>sign</th>\n",
       "      <th>text</th>\n",
       "    </tr>\n",
       "  </thead>\n",
       "  <tbody>\n",
       "    <tr>\n",
       "      <th>0</th>\n",
       "      <td>male</td>\n",
       "      <td>15</td>\n",
       "      <td>Student</td>\n",
       "      <td>Leo</td>\n",
       "      <td>Info has been found (+/- 100 pages,...</td>\n",
       "    </tr>\n",
       "    <tr>\n",
       "      <th>1</th>\n",
       "      <td>male</td>\n",
       "      <td>15</td>\n",
       "      <td>Student</td>\n",
       "      <td>Leo</td>\n",
       "      <td>These are the team members:   Drewe...</td>\n",
       "    </tr>\n",
       "    <tr>\n",
       "      <th>2</th>\n",
       "      <td>male</td>\n",
       "      <td>15</td>\n",
       "      <td>Student</td>\n",
       "      <td>Leo</td>\n",
       "      <td>In het kader van kernfusie op aarde...</td>\n",
       "    </tr>\n",
       "    <tr>\n",
       "      <th>3</th>\n",
       "      <td>male</td>\n",
       "      <td>15</td>\n",
       "      <td>Student</td>\n",
       "      <td>Leo</td>\n",
       "      <td>testing!!!  testing!!!</td>\n",
       "    </tr>\n",
       "    <tr>\n",
       "      <th>4</th>\n",
       "      <td>male</td>\n",
       "      <td>33</td>\n",
       "      <td>InvestmentBanking</td>\n",
       "      <td>Aquarius</td>\n",
       "      <td>Thanks to Yahoo!'s Toolbar I can ...</td>\n",
       "    </tr>\n",
       "  </tbody>\n",
       "</table>\n",
       "</div>"
      ],
      "text/plain": [
       "  gender  age              topic      sign  \\\n",
       "0   male   15            Student       Leo   \n",
       "1   male   15            Student       Leo   \n",
       "2   male   15            Student       Leo   \n",
       "3   male   15            Student       Leo   \n",
       "4   male   33  InvestmentBanking  Aquarius   \n",
       "\n",
       "                                                text  \n",
       "0             Info has been found (+/- 100 pages,...  \n",
       "1             These are the team members:   Drewe...  \n",
       "2             In het kader van kernfusie op aarde...  \n",
       "3                   testing!!!  testing!!!            \n",
       "4               Thanks to Yahoo!'s Toolbar I can ...  "
      ]
     },
     "execution_count": 8,
     "metadata": {},
     "output_type": "execute_result"
    }
   ],
   "source": [
    "partial_dataset.head()"
   ]
  },
  {
   "cell_type": "code",
   "execution_count": 9,
   "metadata": {},
   "outputs": [],
   "source": [
    "## converting 'age' to object type\n",
    "\n",
    "partial_dataset['age'] = partial_dataset['age'].astype('object')"
   ]
  },
  {
   "cell_type": "code",
   "execution_count": 10,
   "metadata": {},
   "outputs": [
    {
     "name": "stdout",
     "output_type": "stream",
     "text": [
      "<class 'pandas.core.frame.DataFrame'>\n",
      "RangeIndex: 10000 entries, 0 to 9999\n",
      "Data columns (total 5 columns):\n",
      " #   Column  Non-Null Count  Dtype \n",
      "---  ------  --------------  ----- \n",
      " 0   gender  10000 non-null  object\n",
      " 1   age     10000 non-null  object\n",
      " 2   topic   10000 non-null  object\n",
      " 3   sign    10000 non-null  object\n",
      " 4   text    10000 non-null  object\n",
      "dtypes: object(5)\n",
      "memory usage: 390.8+ KB\n"
     ]
    }
   ],
   "source": [
    "partial_dataset.info()"
   ]
  },
  {
   "cell_type": "markdown",
   "metadata": {},
   "source": [
    "*Converted all the columns to object data-type*"
   ]
  },
  {
   "cell_type": "markdown",
   "metadata": {},
   "source": [
    "## Data Preprocessing"
   ]
  },
  {
   "cell_type": "markdown",
   "metadata": {},
   "source": [
    "### Data cleaning"
   ]
  },
  {
   "cell_type": "code",
   "execution_count": 11,
   "metadata": {},
   "outputs": [],
   "source": [
    "partial_dataset['clean_data']=partial_dataset['text'].apply(lambda x: re.sub(r'[^A-Za-z]+',' ',x))"
   ]
  },
  {
   "cell_type": "code",
   "execution_count": 12,
   "metadata": {},
   "outputs": [],
   "source": [
    "## to lower\n",
    "partial_dataset['clean_data']=partial_dataset['clean_data'].apply(lambda x: x.lower())"
   ]
  },
  {
   "cell_type": "code",
   "execution_count": 13,
   "metadata": {},
   "outputs": [],
   "source": [
    "## stripping\n",
    "partial_dataset['clean_data']=partial_dataset['clean_data'].apply(lambda x: x.strip())"
   ]
  },
  {
   "cell_type": "code",
   "execution_count": 14,
   "metadata": {},
   "outputs": [
    {
     "name": "stdout",
     "output_type": "stream",
     "text": [
      "Actual data=======>            These are the team members:   Drewes van der Laag           urlLink mail  Ruiyu Xie                     urlLink mail  Bryan Aaldering (me)          urlLink mail          \n"
     ]
    }
   ],
   "source": [
    "print(\"Actual data=======> {}\".format(partial_dataset['text'][1]))"
   ]
  },
  {
   "cell_type": "code",
   "execution_count": 15,
   "metadata": {},
   "outputs": [
    {
     "name": "stdout",
     "output_type": "stream",
     "text": [
      "Cleaned data=======> these are the team members drewes van der laag urllink mail ruiyu xie urllink mail bryan aaldering me urllink mail\n"
     ]
    }
   ],
   "source": [
    "print(\"Cleaned data=======> {}\".format(partial_dataset['clean_data'][1]))"
   ]
  },
  {
   "cell_type": "markdown",
   "metadata": {},
   "source": [
    "#### Removing stopwords"
   ]
  },
  {
   "cell_type": "code",
   "execution_count": 16,
   "metadata": {},
   "outputs": [],
   "source": [
    "stopwords=set(stopwords.words('english'))"
   ]
  },
  {
   "cell_type": "code",
   "execution_count": 17,
   "metadata": {},
   "outputs": [],
   "source": [
    "partial_dataset['clean_data'] = partial_dataset['clean_data'].apply(lambda x: ' '.join([words for words in x.split() if words not in stopwords]))"
   ]
  },
  {
   "cell_type": "code",
   "execution_count": 18,
   "metadata": {},
   "outputs": [
    {
     "data": {
      "text/plain": [
       "'urllink wonderful oh gyup sal favorite pork restaurant official pork outstripped beef top meat import korea see urllink joongang ilbo link wonder mad cow disease avian flu virus going around thing seems safe pork course may know oh gyup sal literally means layers fat maybe super healthy well bad hours inline skating call rollerblading seems tough time rolling korean tongue beforehand drowned lovely concoction called oh ship say joo mix baek say ju literally hundred year alcohol soju literally booze thus translation combined drink called year alcohol intersting eh'"
      ]
     },
     "execution_count": 18,
     "metadata": {},
     "output_type": "execute_result"
    }
   ],
   "source": [
    "partial_dataset['clean_data'][16]"
   ]
  },
  {
   "cell_type": "markdown",
   "metadata": {},
   "source": [
    "### Target/label merger and transformation"
   ]
  },
  {
   "cell_type": "code",
   "execution_count": 19,
   "metadata": {},
   "outputs": [],
   "source": [
    "partial_dataset['labels'] = partial_dataset.apply(lambda col: [col['gender'],str(col['age']),col['topic'],col['sign']], axis=1)"
   ]
  },
  {
   "cell_type": "code",
   "execution_count": 20,
   "metadata": {},
   "outputs": [
    {
     "data": {
      "text/html": [
       "<div>\n",
       "<style scoped>\n",
       "    .dataframe tbody tr th:only-of-type {\n",
       "        vertical-align: middle;\n",
       "    }\n",
       "\n",
       "    .dataframe tbody tr th {\n",
       "        vertical-align: top;\n",
       "    }\n",
       "\n",
       "    .dataframe thead th {\n",
       "        text-align: right;\n",
       "    }\n",
       "</style>\n",
       "<table border=\"1\" class=\"dataframe\">\n",
       "  <thead>\n",
       "    <tr style=\"text-align: right;\">\n",
       "      <th></th>\n",
       "      <th>gender</th>\n",
       "      <th>age</th>\n",
       "      <th>topic</th>\n",
       "      <th>sign</th>\n",
       "      <th>text</th>\n",
       "      <th>clean_data</th>\n",
       "      <th>labels</th>\n",
       "    </tr>\n",
       "  </thead>\n",
       "  <tbody>\n",
       "    <tr>\n",
       "      <th>0</th>\n",
       "      <td>male</td>\n",
       "      <td>15</td>\n",
       "      <td>Student</td>\n",
       "      <td>Leo</td>\n",
       "      <td>Info has been found (+/- 100 pages,...</td>\n",
       "      <td>info found pages mb pdf files wait untill team...</td>\n",
       "      <td>[male, 15, Student, Leo]</td>\n",
       "    </tr>\n",
       "    <tr>\n",
       "      <th>1</th>\n",
       "      <td>male</td>\n",
       "      <td>15</td>\n",
       "      <td>Student</td>\n",
       "      <td>Leo</td>\n",
       "      <td>These are the team members:   Drewe...</td>\n",
       "      <td>team members drewes van der laag urllink mail ...</td>\n",
       "      <td>[male, 15, Student, Leo]</td>\n",
       "    </tr>\n",
       "    <tr>\n",
       "      <th>2</th>\n",
       "      <td>male</td>\n",
       "      <td>15</td>\n",
       "      <td>Student</td>\n",
       "      <td>Leo</td>\n",
       "      <td>In het kader van kernfusie op aarde...</td>\n",
       "      <td>het kader van kernfusie op aarde maak je eigen...</td>\n",
       "      <td>[male, 15, Student, Leo]</td>\n",
       "    </tr>\n",
       "    <tr>\n",
       "      <th>3</th>\n",
       "      <td>male</td>\n",
       "      <td>15</td>\n",
       "      <td>Student</td>\n",
       "      <td>Leo</td>\n",
       "      <td>testing!!!  testing!!!</td>\n",
       "      <td>testing testing</td>\n",
       "      <td>[male, 15, Student, Leo]</td>\n",
       "    </tr>\n",
       "    <tr>\n",
       "      <th>4</th>\n",
       "      <td>male</td>\n",
       "      <td>33</td>\n",
       "      <td>InvestmentBanking</td>\n",
       "      <td>Aquarius</td>\n",
       "      <td>Thanks to Yahoo!'s Toolbar I can ...</td>\n",
       "      <td>thanks yahoo toolbar capture urls popups means...</td>\n",
       "      <td>[male, 33, InvestmentBanking, Aquarius]</td>\n",
       "    </tr>\n",
       "  </tbody>\n",
       "</table>\n",
       "</div>"
      ],
      "text/plain": [
       "  gender age              topic      sign  \\\n",
       "0   male  15            Student       Leo   \n",
       "1   male  15            Student       Leo   \n",
       "2   male  15            Student       Leo   \n",
       "3   male  15            Student       Leo   \n",
       "4   male  33  InvestmentBanking  Aquarius   \n",
       "\n",
       "                                                text  \\\n",
       "0             Info has been found (+/- 100 pages,...   \n",
       "1             These are the team members:   Drewe...   \n",
       "2             In het kader van kernfusie op aarde...   \n",
       "3                   testing!!!  testing!!!             \n",
       "4               Thanks to Yahoo!'s Toolbar I can ...   \n",
       "\n",
       "                                          clean_data  \\\n",
       "0  info found pages mb pdf files wait untill team...   \n",
       "1  team members drewes van der laag urllink mail ...   \n",
       "2  het kader van kernfusie op aarde maak je eigen...   \n",
       "3                                    testing testing   \n",
       "4  thanks yahoo toolbar capture urls popups means...   \n",
       "\n",
       "                                    labels  \n",
       "0                 [male, 15, Student, Leo]  \n",
       "1                 [male, 15, Student, Leo]  \n",
       "2                 [male, 15, Student, Leo]  \n",
       "3                 [male, 15, Student, Leo]  \n",
       "4  [male, 33, InvestmentBanking, Aquarius]  "
      ]
     },
     "execution_count": 20,
     "metadata": {},
     "output_type": "execute_result"
    }
   ],
   "source": [
    "partial_dataset.head()"
   ]
  },
  {
   "cell_type": "code",
   "execution_count": 21,
   "metadata": {},
   "outputs": [],
   "source": [
    "cleaned_partial_dataset = partial_dataset[['clean_data', 'labels']]"
   ]
  },
  {
   "cell_type": "code",
   "execution_count": 22,
   "metadata": {},
   "outputs": [
    {
     "data": {
      "text/html": [
       "<div>\n",
       "<style scoped>\n",
       "    .dataframe tbody tr th:only-of-type {\n",
       "        vertical-align: middle;\n",
       "    }\n",
       "\n",
       "    .dataframe tbody tr th {\n",
       "        vertical-align: top;\n",
       "    }\n",
       "\n",
       "    .dataframe thead th {\n",
       "        text-align: right;\n",
       "    }\n",
       "</style>\n",
       "<table border=\"1\" class=\"dataframe\">\n",
       "  <thead>\n",
       "    <tr style=\"text-align: right;\">\n",
       "      <th></th>\n",
       "      <th>clean_data</th>\n",
       "      <th>labels</th>\n",
       "    </tr>\n",
       "  </thead>\n",
       "  <tbody>\n",
       "    <tr>\n",
       "      <th>0</th>\n",
       "      <td>info found pages mb pdf files wait untill team...</td>\n",
       "      <td>[male, 15, Student, Leo]</td>\n",
       "    </tr>\n",
       "    <tr>\n",
       "      <th>1</th>\n",
       "      <td>team members drewes van der laag urllink mail ...</td>\n",
       "      <td>[male, 15, Student, Leo]</td>\n",
       "    </tr>\n",
       "    <tr>\n",
       "      <th>2</th>\n",
       "      <td>het kader van kernfusie op aarde maak je eigen...</td>\n",
       "      <td>[male, 15, Student, Leo]</td>\n",
       "    </tr>\n",
       "    <tr>\n",
       "      <th>3</th>\n",
       "      <td>testing testing</td>\n",
       "      <td>[male, 15, Student, Leo]</td>\n",
       "    </tr>\n",
       "    <tr>\n",
       "      <th>4</th>\n",
       "      <td>thanks yahoo toolbar capture urls popups means...</td>\n",
       "      <td>[male, 33, InvestmentBanking, Aquarius]</td>\n",
       "    </tr>\n",
       "  </tbody>\n",
       "</table>\n",
       "</div>"
      ],
      "text/plain": [
       "                                          clean_data  \\\n",
       "0  info found pages mb pdf files wait untill team...   \n",
       "1  team members drewes van der laag urllink mail ...   \n",
       "2  het kader van kernfusie op aarde maak je eigen...   \n",
       "3                                    testing testing   \n",
       "4  thanks yahoo toolbar capture urls popups means...   \n",
       "\n",
       "                                    labels  \n",
       "0                 [male, 15, Student, Leo]  \n",
       "1                 [male, 15, Student, Leo]  \n",
       "2                 [male, 15, Student, Leo]  \n",
       "3                 [male, 15, Student, Leo]  \n",
       "4  [male, 33, InvestmentBanking, Aquarius]  "
      ]
     },
     "execution_count": 22,
     "metadata": {},
     "output_type": "execute_result"
    }
   ],
   "source": [
    "cleaned_partial_dataset.head()"
   ]
  },
  {
   "cell_type": "markdown",
   "metadata": {},
   "source": [
    "### Vectorisation\n",
    "\n",
    "Lets perform count vectorizer with bi-grams and tri-grams to get the count vectors of the X data"
   ]
  },
  {
   "cell_type": "code",
   "execution_count": 23,
   "metadata": {},
   "outputs": [],
   "source": [
    "vectorizer=CountVectorizer(binary=True, ngram_range=(1,2))"
   ]
  },
  {
   "cell_type": "code",
   "execution_count": 24,
   "metadata": {},
   "outputs": [],
   "source": [
    "X = cleaned_partial_dataset['clean_data']\n",
    "y = cleaned_partial_dataset['labels']"
   ]
  },
  {
   "cell_type": "code",
   "execution_count": 25,
   "metadata": {},
   "outputs": [],
   "source": [
    "X=vectorizer.fit_transform(X)"
   ]
  },
  {
   "cell_type": "code",
   "execution_count": 26,
   "metadata": {},
   "outputs": [
    {
     "data": {
      "text/plain": [
       "<1x643302 sparse matrix of type '<class 'numpy.int64'>'\n",
       "\twith 25 stored elements in Compressed Sparse Row format>"
      ]
     },
     "execution_count": 26,
     "metadata": {},
     "output_type": "execute_result"
    }
   ],
   "source": [
    "X[1]"
   ]
  },
  {
   "cell_type": "code",
   "execution_count": 27,
   "metadata": {},
   "outputs": [
    {
     "data": {
      "text/plain": [
       "['aa', 'aa amazing', 'aa anger', 'aa compared']"
      ]
     },
     "execution_count": 27,
     "metadata": {},
     "output_type": "execute_result"
    }
   ],
   "source": [
    "## get some features\n",
    "\n",
    "vectorizer.get_feature_names()[:4]"
   ]
  },
  {
   "cell_type": "code",
   "execution_count": 28,
   "metadata": {},
   "outputs": [],
   "source": [
    "label_counts=dict()\n",
    "\n",
    "for labels in cleaned_partial_dataset.labels.values:\n",
    "    for label in labels:\n",
    "        if label in label_counts:\n",
    "            label_counts[label]+=1\n",
    "        else:\n",
    "            label_counts[label]=1"
   ]
  },
  {
   "cell_type": "code",
   "execution_count": 29,
   "metadata": {},
   "outputs": [
    {
     "data": {
      "text/plain": [
       "{'male': 5916,\n",
       " '15': 602,\n",
       " 'Student': 1137,\n",
       " 'Leo': 301,\n",
       " '33': 136,\n",
       " 'InvestmentBanking': 70,\n",
       " 'Aquarius': 571,\n",
       " 'female': 4084,\n",
       " '14': 212,\n",
       " 'indUnk': 3287,\n",
       " 'Aries': 4198,\n",
       " '25': 386,\n",
       " 'Capricorn': 215,\n",
       " '17': 1185,\n",
       " 'Gemini': 150,\n",
       " '23': 253,\n",
       " 'Non-Profit': 71,\n",
       " 'Cancer': 504,\n",
       " 'Banking': 16,\n",
       " '37': 33,\n",
       " 'Sagittarius': 1097,\n",
       " '26': 234,\n",
       " '24': 655,\n",
       " 'Scorpio': 971,\n",
       " '27': 1054,\n",
       " 'Education': 270,\n",
       " '45': 16,\n",
       " 'Engineering': 127,\n",
       " 'Libra': 491,\n",
       " 'Science': 63,\n",
       " '34': 553,\n",
       " '41': 20,\n",
       " 'Communications-Media': 99,\n",
       " 'BusinessServices': 91,\n",
       " 'Sports-Recreation': 80,\n",
       " 'Virgo': 236,\n",
       " 'Taurus': 812,\n",
       " 'Arts': 45,\n",
       " 'Pisces': 454,\n",
       " '44': 3,\n",
       " '16': 440,\n",
       " 'Internet': 118,\n",
       " 'Museums-Libraries': 17,\n",
       " 'Accounting': 4,\n",
       " '39': 79,\n",
       " '35': 2315,\n",
       " 'Technology': 2654,\n",
       " '36': 1708,\n",
       " 'Law': 11,\n",
       " '46': 7,\n",
       " 'Consulting': 21,\n",
       " 'Automotive': 14,\n",
       " '42': 14,\n",
       " 'Religion': 9,\n",
       " '13': 42,\n",
       " 'Fashion': 1622,\n",
       " '38': 46,\n",
       " '43': 6,\n",
       " 'Publishing': 4,\n",
       " '40': 1,\n",
       " 'Marketing': 156,\n",
       " 'LawEnforcement-Security': 10,\n",
       " 'HumanResources': 2,\n",
       " 'Telecommunications': 2}"
      ]
     },
     "execution_count": 29,
     "metadata": {},
     "output_type": "execute_result"
    }
   ],
   "source": [
    "label_counts"
   ]
  },
  {
   "cell_type": "code",
   "execution_count": 30,
   "metadata": {},
   "outputs": [],
   "source": [
    "## Preprocessing Labels\n",
    "\n",
    "binarizer=MultiLabelBinarizer(classes=sorted(label_counts.keys()))"
   ]
  },
  {
   "cell_type": "code",
   "execution_count": 31,
   "metadata": {},
   "outputs": [],
   "source": [
    "y = binarizer.fit_transform(cleaned_partial_dataset.labels)"
   ]
  },
  {
   "cell_type": "code",
   "execution_count": 32,
   "metadata": {},
   "outputs": [
    {
     "data": {
      "text/plain": [
       "array([0, 0, 1, 0, 0, 0, 0, 0, 0, 0, 0, 0, 0, 0, 0, 0, 0, 0, 0, 0, 0, 0,\n",
       "       0, 0, 0, 0, 0, 0, 0, 0, 0, 0, 0, 0, 0, 0, 0, 0, 0, 0, 0, 0, 0, 0,\n",
       "       1, 0, 0, 0, 0, 0, 0, 0, 0, 0, 0, 0, 1, 0, 0, 0, 0, 0, 0, 1])"
      ]
     },
     "execution_count": 32,
     "metadata": {},
     "output_type": "execute_result"
    }
   ],
   "source": [
    "y[1]"
   ]
  },
  {
   "cell_type": "markdown",
   "metadata": {},
   "source": [
    "### Splitting data into train and test split"
   ]
  },
  {
   "cell_type": "code",
   "execution_count": 33,
   "metadata": {},
   "outputs": [],
   "source": [
    "X_train, X_test, y_train, y_test = train_test_split(X, y, test_size=0.3, random_state=0)"
   ]
  },
  {
   "cell_type": "markdown",
   "metadata": {},
   "source": [
    "## Model building and evaluation"
   ]
  },
  {
   "cell_type": "code",
   "execution_count": 50,
   "metadata": {},
   "outputs": [],
   "source": [
    "model=LogisticRegression(solver='lbfgs')"
   ]
  },
  {
   "cell_type": "code",
   "execution_count": 53,
   "metadata": {},
   "outputs": [],
   "source": [
    "model=OneVsRestClassifier(model)"
   ]
  },
  {
   "cell_type": "code",
   "execution_count": 54,
   "metadata": {},
   "outputs": [
    {
     "data": {
      "text/plain": [
       "OneVsRestClassifier(estimator=LogisticRegression(C=1.0, class_weight=None, dual=False, fit_intercept=True,\n",
       "          intercept_scaling=1, max_iter=100, multi_class='warn',\n",
       "          n_jobs=None, penalty='l2', random_state=None, solver='lbfgs',\n",
       "          tol=0.0001, verbose=0, warm_start=False),\n",
       "          n_jobs=None)"
      ]
     },
     "execution_count": 54,
     "metadata": {},
     "output_type": "execute_result"
    }
   ],
   "source": [
    "model.fit(X_train, y_train)"
   ]
  },
  {
   "cell_type": "code",
   "execution_count": 55,
   "metadata": {},
   "outputs": [],
   "source": [
    "y_pred = model.predict(X_test)"
   ]
  },
  {
   "cell_type": "code",
   "execution_count": 58,
   "metadata": {},
   "outputs": [],
   "source": [
    "def print_evaluation_scores(y_test, y_pred):\n",
    "    print('Accuracy score: ', accuracy_score(y_test, y_pred))\n",
    "    print('F1 score: ', f1_score(y_test, y_pred, average='micro'))\n",
    "    print('Average precision score: ', average_precision_score(y_test, y_pred, average='micro'))\n",
    "    print('Average recall score: ', recall_score(y_test, y_pred, average='micro'))"
   ]
  },
  {
   "cell_type": "code",
   "execution_count": 59,
   "metadata": {},
   "outputs": [
    {
     "name": "stdout",
     "output_type": "stream",
     "text": [
      "Accuracy score:  0.304\n",
      "F1 score:  0.6351104804378673\n",
      "Average precision score:  0.45302758557509915\n",
      "Average recall score:  0.5221666666666667\n"
     ]
    }
   ],
   "source": [
    "print_evaluation_scores(y_test, y_pred)"
   ]
  },
  {
   "cell_type": "code",
   "execution_count": 72,
   "metadata": {},
   "outputs": [
    {
     "name": "stdout",
     "output_type": "stream",
     "text": [
      "              precision    recall  f1-score   support\n",
      "\n",
      "           0       1.00      0.06      0.12        16\n",
      "           1       1.00      0.05      0.09        63\n",
      "           2       0.86      0.19      0.31       192\n",
      "           3       0.87      0.26      0.40       131\n",
      "           4       0.69      0.23      0.35       326\n",
      "           5       0.00      0.00      0.00        71\n",
      "           6       0.90      0.05      0.09       183\n",
      "           7       1.00      0.02      0.04       133\n",
      "           8       1.00      0.03      0.05        74\n",
      "           9       0.96      0.35      0.51       330\n",
      "          10       1.00      0.11      0.20        44\n",
      "          11       1.00      0.75      0.85       189\n",
      "          12       0.75      0.66      0.70       686\n",
      "          13       0.96      0.50      0.66       498\n",
      "          14       0.00      0.00      0.00         9\n",
      "          15       1.00      0.17      0.29        12\n",
      "          16       0.00      0.00      0.00        26\n",
      "          17       0.00      0.00      0.00         0\n",
      "          18       0.00      0.00      0.00         6\n",
      "          19       0.00      0.00      0.00         4\n",
      "          20       0.00      0.00      0.00         1\n",
      "          21       0.00      0.00      0.00         0\n",
      "          22       0.00      0.00      0.00         4\n",
      "          23       0.00      0.00      0.00         2\n",
      "          24       0.00      0.00      0.00         3\n",
      "          25       0.95      0.12      0.21       174\n",
      "          26       0.77      0.79      0.78      1235\n",
      "          27       0.00      0.00      0.00        14\n",
      "          28       0.00      0.00      0.00         4\n",
      "          29       0.00      0.00      0.00         8\n",
      "          30       1.00      0.04      0.08        25\n",
      "          31       0.95      0.29      0.44       146\n",
      "          32       1.00      0.07      0.14        68\n",
      "          33       0.00      0.00      0.00        35\n",
      "          34       0.00      0.00      0.00         5\n",
      "          35       1.00      0.01      0.02        86\n",
      "          36       1.00      0.09      0.16        34\n",
      "          37       0.98      0.50      0.67       476\n",
      "          38       0.00      0.00      0.00        38\n",
      "          39       0.00      0.00      0.00         1\n",
      "          40       1.00      0.06      0.12        32\n",
      "          41       1.00      0.13      0.23        23\n",
      "          42       0.00      0.00      0.00         4\n",
      "          43       0.00      0.00      0.00         3\n",
      "          44       0.00      0.00      0.00        87\n",
      "          45       1.00      0.08      0.15       157\n",
      "          46       1.00      0.24      0.38        38\n",
      "          47       0.00      0.00      0.00         6\n",
      "          48       0.00      0.00      0.00        29\n",
      "          49       0.93      0.19      0.31       151\n",
      "          50       0.00      0.00      0.00         0\n",
      "          51       0.00      0.00      0.00         4\n",
      "          52       0.98      0.42      0.59       357\n",
      "          53       0.00      0.00      0.00        20\n",
      "          54       0.82      0.17      0.28       268\n",
      "          55       1.00      0.14      0.24        22\n",
      "          56       0.78      0.26      0.39       353\n",
      "          57       0.93      0.28      0.43       250\n",
      "          58       0.74      0.62      0.68       795\n",
      "          59       0.00      0.00      0.00         2\n",
      "          60       1.00      0.10      0.18        69\n",
      "          61       0.82      0.69      0.75      1231\n",
      "          62       0.74      0.52      0.61       978\n",
      "          63       0.81      0.90      0.85      1769\n",
      "\n",
      "   micro avg       0.81      0.52      0.64     12000\n",
      "   macro avg       0.53      0.16      0.21     12000\n",
      "weighted avg       0.81      0.52      0.58     12000\n",
      " samples avg       0.77      0.52      0.59     12000\n",
      "\n"
     ]
    }
   ],
   "source": [
    "print(classification_report(y_test, y_pred))"
   ]
  },
  {
   "cell_type": "markdown",
   "metadata": {},
   "source": [
    "### Predictions\n",
    "\n",
    "true vs predicted labels for any 5 entries"
   ]
  },
  {
   "cell_type": "code",
   "execution_count": 80,
   "metadata": {},
   "outputs": [],
   "source": [
    "y_pred_inversed = binarizer.inverse_transform(y_pred)\n",
    "y_test_inversed = binarizer.inverse_transform(y_test)"
   ]
  },
  {
   "cell_type": "code",
   "execution_count": 57,
   "metadata": {},
   "outputs": [
    {
     "name": "stdout",
     "output_type": "stream",
     "text": [
      "Text:\t  (0, 20)\t1\n",
      "  (0, 21)\t1\n",
      "  (0, 4892)\t1\n",
      "  (0, 4965)\t1\n",
      "  (0, 8672)\t1\n",
      "  (0, 8806)\t1\n",
      "  (0, 13692)\t1\n",
      "  (0, 13792)\t1\n",
      "  (0, 18103)\t1\n",
      "  (0, 18191)\t1\n",
      "  (0, 55068)\t1\n",
      "  (0, 55085)\t1\n",
      "  (0, 85438)\t1\n",
      "  (0, 85534)\t1\n",
      "  (0, 102031)\t1\n",
      "  (0, 102260)\t1\n",
      "  (0, 103588)\t1\n",
      "  (0, 103619)\t1\n",
      "  (0, 117927)\t1\n",
      "  (0, 117995)\t1\n",
      "  (0, 128843)\t1\n",
      "  (0, 128851)\t1\n",
      "  (0, 131554)\t1\n",
      "  (0, 131724)\t1\n",
      "  (0, 141348)\t1\n",
      "  :\t:\n",
      "  (0, 498235)\t1\n",
      "  (0, 498620)\t1\n",
      "  (0, 513546)\t1\n",
      "  (0, 514356)\t1\n",
      "  (0, 515865)\t1\n",
      "  (0, 515996)\t1\n",
      "  (0, 552721)\t1\n",
      "  (0, 552939)\t1\n",
      "  (0, 559897)\t1\n",
      "  (0, 564667)\t1\n",
      "  (0, 564896)\t1\n",
      "  (0, 567161)\t1\n",
      "  (0, 567905)\t1\n",
      "  (0, 570626)\t1\n",
      "  (0, 570852)\t1\n",
      "  (0, 573316)\t1\n",
      "  (0, 573321)\t1\n",
      "  (0, 586020)\t1\n",
      "  (0, 586198)\t1\n",
      "  (0, 587562)\t1\n",
      "  (0, 587581)\t1\n",
      "  (0, 615450)\t1\n",
      "  (0, 615874)\t1\n",
      "  (0, 636616)\t1\n",
      "  (0, 636762)\t1\n",
      "True labels:\t16,Cancer,indUnk,male\n",
      "Predicted labels:\t16,Cancer,indUnk,male\n",
      "\n",
      "\n",
      "Text:\t  (0, 1917)\t1\n",
      "  (0, 1929)\t1\n",
      "  (0, 2073)\t1\n",
      "  (0, 2089)\t1\n",
      "  (0, 3990)\t1\n",
      "  (0, 4322)\t1\n",
      "  (0, 8672)\t1\n",
      "  (0, 8901)\t1\n",
      "  (0, 15527)\t1\n",
      "  (0, 15633)\t1\n",
      "  (0, 20393)\t1\n",
      "  (0, 20641)\t1\n",
      "  (0, 23228)\t1\n",
      "  (0, 23242)\t1\n",
      "  (0, 35247)\t1\n",
      "  (0, 35281)\t1\n",
      "  (0, 39480)\t1\n",
      "  (0, 39481)\t1\n",
      "  (0, 39524)\t1\n",
      "  (0, 39548)\t1\n",
      "  (0, 40840)\t1\n",
      "  (0, 40910)\t1\n",
      "  (0, 41068)\t1\n",
      "  (0, 41093)\t1\n",
      "  (0, 41251)\t1\n",
      "  :\t:\n",
      "  (0, 615061)\t1\n",
      "  (0, 616364)\t1\n",
      "  (0, 616442)\t1\n",
      "  (0, 618429)\t1\n",
      "  (0, 618912)\t1\n",
      "  (0, 619116)\t1\n",
      "  (0, 619185)\t1\n",
      "  (0, 619816)\t1\n",
      "  (0, 619838)\t1\n",
      "  (0, 621438)\t1\n",
      "  (0, 621712)\t1\n",
      "  (0, 624425)\t1\n",
      "  (0, 624482)\t1\n",
      "  (0, 629626)\t1\n",
      "  (0, 629691)\t1\n",
      "  (0, 629942)\t1\n",
      "  (0, 629961)\t1\n",
      "  (0, 639582)\t1\n",
      "  (0, 639584)\t1\n",
      "  (0, 639750)\t1\n",
      "  (0, 639752)\t1\n",
      "  (0, 640410)\t1\n",
      "  (0, 640649)\t1\n",
      "  (0, 640829)\t1\n",
      "  (0, 641112)\t1\n",
      "True labels:\t17,Capricorn,Sports-Recreation,male\n",
      "Predicted labels:\tmale\n",
      "\n",
      "\n",
      "Text:\t  (0, 6382)\t1\n",
      "  (0, 6384)\t1\n",
      "  (0, 26246)\t1\n",
      "  (0, 26251)\t1\n",
      "  (0, 50201)\t1\n",
      "  (0, 50211)\t1\n",
      "  (0, 51214)\t1\n",
      "  (0, 51950)\t1\n",
      "  (0, 55465)\t1\n",
      "  (0, 55589)\t1\n",
      "  (0, 56352)\t1\n",
      "  (0, 56353)\t1\n",
      "  (0, 64096)\t1\n",
      "  (0, 64123)\t1\n",
      "  (0, 67574)\t1\n",
      "  (0, 67577)\t1\n",
      "  (0, 107591)\t1\n",
      "  (0, 107608)\t1\n",
      "  (0, 150002)\t1\n",
      "  (0, 150004)\t1\n",
      "  (0, 150054)\t1\n",
      "  (0, 150055)\t1\n",
      "  (0, 180331)\t1\n",
      "  (0, 180393)\t1\n",
      "  (0, 197134)\t1\n",
      "  :\t:\n",
      "  (0, 343748)\t1\n",
      "  (0, 344041)\t1\n",
      "  (0, 362486)\t1\n",
      "  (0, 363386)\t1\n",
      "  (0, 363497)\t1\n",
      "  (0, 365038)\t1\n",
      "  (0, 365040)\t1\n",
      "  (0, 375481)\t1\n",
      "  (0, 375593)\t1\n",
      "  (0, 378579)\t1\n",
      "  (0, 378599)\t1\n",
      "  (0, 378712)\t1\n",
      "  (0, 379108)\t1\n",
      "  (0, 449060)\t1\n",
      "  (0, 449075)\t1\n",
      "  (0, 483248)\t1\n",
      "  (0, 483272)\t1\n",
      "  (0, 541965)\t1\n",
      "  (0, 542275)\t1\n",
      "  (0, 613652)\t1\n",
      "  (0, 613696)\t1\n",
      "  (0, 639750)\t1\n",
      "  (0, 639900)\t1\n",
      "  (0, 642836)\t1\n",
      "  (0, 642837)\t1\n",
      "True labels:\t35,Aries,Technology,male\n",
      "Predicted labels:\tAries,male\n",
      "\n",
      "\n",
      "Text:\t  (0, 12023)\t1\n",
      "  (0, 12041)\t1\n",
      "  (0, 61420)\t1\n",
      "  (0, 61421)\t1\n",
      "  (0, 66885)\t1\n",
      "  (0, 66981)\t1\n",
      "  (0, 87678)\t1\n",
      "  (0, 87976)\t1\n",
      "  (0, 191339)\t1\n",
      "  (0, 191407)\t1\n",
      "  (0, 222136)\t1\n",
      "  (0, 222140)\t1\n",
      "  (0, 222683)\t1\n",
      "  (0, 223282)\t1\n",
      "  (0, 255236)\t1\n",
      "  (0, 255282)\t1\n",
      "  (0, 255457)\t1\n",
      "  (0, 256777)\t1\n",
      "  (0, 256820)\t1\n",
      "  (0, 275211)\t1\n",
      "  (0, 275212)\t1\n",
      "  (0, 323937)\t1\n",
      "  (0, 324480)\t1\n",
      "  (0, 334172)\t1\n",
      "  (0, 335109)\t1\n",
      "  :\t:\n",
      "  (0, 371551)\t1\n",
      "  (0, 442792)\t1\n",
      "  (0, 442793)\t1\n",
      "  (0, 452742)\t1\n",
      "  (0, 452862)\t1\n",
      "  (0, 495637)\t1\n",
      "  (0, 495821)\t1\n",
      "  (0, 504728)\t1\n",
      "  (0, 505024)\t1\n",
      "  (0, 527486)\t1\n",
      "  (0, 527488)\t1\n",
      "  (0, 559031)\t1\n",
      "  (0, 559476)\t1\n",
      "  (0, 578117)\t1\n",
      "  (0, 578208)\t1\n",
      "  (0, 593438)\t1\n",
      "  (0, 594216)\t1\n",
      "  (0, 594395)\t1\n",
      "  (0, 594775)\t1\n",
      "  (0, 595047)\t1\n",
      "  (0, 595317)\t1\n",
      "  (0, 626721)\t1\n",
      "  (0, 626745)\t1\n",
      "  (0, 636616)\t1\n",
      "  (0, 636723)\t1\n",
      "True labels:\t27,Taurus,female,indUnk\n",
      "Predicted labels:\t27,Taurus,female,indUnk\n",
      "\n",
      "\n",
      "Text:\t  (0, 157674)\t1\n",
      "  (0, 157675)\t1\n",
      "  (0, 324535)\t1\n",
      "  (0, 324677)\t1\n",
      "  (0, 415204)\t1\n",
      "  (0, 415278)\t1\n",
      "  (0, 541965)\t1\n",
      "  (0, 557423)\t1\n",
      "  (0, 557502)\t1\n",
      "  (0, 581831)\t1\n",
      "  (0, 582138)\t1\n",
      "True labels:\t35,Aries,Technology,male\n",
      "Predicted labels:\tAries,male\n",
      "\n",
      "\n"
     ]
    }
   ],
   "source": [
    "for i in range(5):\n",
    "    print('Text:\\t{}\\nTrue labels:\\t{}\\nPredicted labels:\\t{}\\n\\n'.format(\n",
    "        X_test[i],\n",
    "        ','.join(y_test_inversed[i]),\n",
    "        ','.join(y_pred_inversed[i])\n",
    "    ))"
   ]
  }
 ],
 "metadata": {
  "kernelspec": {
   "display_name": "Python 3",
   "language": "python",
   "name": "python3"
  },
  "language_info": {
   "codemirror_mode": {
    "name": "ipython",
    "version": 3
   },
   "file_extension": ".py",
   "mimetype": "text/x-python",
   "name": "python",
   "nbconvert_exporter": "python",
   "pygments_lexer": "ipython3",
   "version": "3.7.6"
  }
 },
 "nbformat": 4,
 "nbformat_minor": 4
}
